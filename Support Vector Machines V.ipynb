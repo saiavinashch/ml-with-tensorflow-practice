{
 "cells": [
  {
   "cell_type": "code",
   "execution_count": 1,
   "metadata": {},
   "outputs": [],
   "source": [
    "# Importing required modules and trying to create a Linear SVC by feature scaling(Standardization) using StandardScaler\n",
    "import numpy as np \n",
    "from sklearn.pipeline import Pipeline\n",
    "from sklearn import datasets\n",
    "from sklearn.preprocessing import StandardScaler\n",
    "from sklearn.svm import LinearSVC"
   ]
  },
  {
   "cell_type": "code",
   "execution_count": 2,
   "metadata": {},
   "outputs": [
    {
     "data": {
      "text/plain": [
       "Pipeline(memory=None,\n",
       "         steps=[('standard_scaler',\n",
       "                 StandardScaler(copy=True, with_mean=True, with_std=True)),\n",
       "                ('kinear_svc',\n",
       "                 LinearSVC(C=1, class_weight=None, dual=True,\n",
       "                           fit_intercept=True, intercept_scaling=1,\n",
       "                           loss='hinge', max_iter=1000, multi_class='ovr',\n",
       "                           penalty='l2', random_state=None, tol=0.0001,\n",
       "                           verbose=0))],\n",
       "         verbose=False)"
      ]
     },
     "execution_count": 2,
     "metadata": {},
     "output_type": "execute_result"
    }
   ],
   "source": [
    "#downloading iris dataset from datasets module of python and filtering out required columns \n",
    "iris = datasets.load_iris()\n",
    "X = iris['data'][:,(2,3)]#petal length, petal width columns of the data\n",
    "y = (iris['target'] == 2).astype(np.float64) #Iris Virginca\n",
    "\n",
    "svm_clf = Pipeline([('standard_scaler',StandardScaler()),\n",
    "                    ('kinear_svc',LinearSVC(C= 1, loss='hinge'))])\n",
    "\n",
    "svm_clf.fit(X,y)"
   ]
  },
  {
   "cell_type": "code",
   "execution_count": 3,
   "metadata": {},
   "outputs": [
    {
     "data": {
      "text/plain": [
       "array([0.])"
      ]
     },
     "execution_count": 3,
     "metadata": {},
     "output_type": "execute_result"
    }
   ],
   "source": [
    "svm_clf.predict([[3.5,1.7]])"
   ]
  },
  {
   "cell_type": "code",
   "execution_count": 4,
   "metadata": {},
   "outputs": [
    {
     "ename": "NameError",
     "evalue": "name 'plt' is not defined",
     "output_type": "error",
     "traceback": [
      "\u001b[1;31m---------------------------------------------------------------------------\u001b[0m",
      "\u001b[1;31mNameError\u001b[0m                                 Traceback (most recent call last)",
      "\u001b[1;32m<ipython-input-4-3d41203089f8>\u001b[0m in \u001b[0;36m<module>\u001b[1;34m\u001b[0m\n\u001b[0;32m     19\u001b[0m     \u001b[0mplt\u001b[0m\u001b[1;33m.\u001b[0m\u001b[0mplot\u001b[0m\u001b[1;33m(\u001b[0m\u001b[0mx0\u001b[0m\u001b[1;33m,\u001b[0m \u001b[0mgutter_down\u001b[0m\u001b[1;33m,\u001b[0m \u001b[1;34m\"k--\"\u001b[0m\u001b[1;33m,\u001b[0m \u001b[0mlinewidth\u001b[0m\u001b[1;33m=\u001b[0m\u001b[1;36m2\u001b[0m\u001b[1;33m)\u001b[0m\u001b[1;33m\u001b[0m\u001b[1;33m\u001b[0m\u001b[0m\n\u001b[0;32m     20\u001b[0m \u001b[1;33m\u001b[0m\u001b[0m\n\u001b[1;32m---> 21\u001b[1;33m \u001b[0mfig\u001b[0m\u001b[1;33m,\u001b[0m \u001b[0maxes\u001b[0m \u001b[1;33m=\u001b[0m \u001b[0mplt\u001b[0m\u001b[1;33m.\u001b[0m\u001b[0msubplots\u001b[0m\u001b[1;33m(\u001b[0m\u001b[0mncols\u001b[0m\u001b[1;33m=\u001b[0m\u001b[1;36m2\u001b[0m\u001b[1;33m,\u001b[0m \u001b[0mfigsize\u001b[0m\u001b[1;33m=\u001b[0m\u001b[1;33m(\u001b[0m\u001b[1;36m10\u001b[0m\u001b[1;33m,\u001b[0m\u001b[1;36m2.7\u001b[0m\u001b[1;33m)\u001b[0m\u001b[1;33m,\u001b[0m \u001b[0msharey\u001b[0m\u001b[1;33m=\u001b[0m\u001b[1;32mTrue\u001b[0m\u001b[1;33m)\u001b[0m\u001b[1;33m\u001b[0m\u001b[1;33m\u001b[0m\u001b[0m\n\u001b[0m",
      "\u001b[1;31mNameError\u001b[0m: name 'plt' is not defined"
     ]
    }
   ],
   "source": [
    "#Code to plot decision boundary for SVM which requires the svm classifier object and \n",
    "def plot_svc_decision_boundary(svm_clf, xmin, xmax):\n",
    "    w = svm_clf.coef_[0]\n",
    "    b = svm_clf.intercept_[0]\n",
    "\n",
    "    # At the decision boundary, w0*x0 + w1*x1 + b = 0\n",
    "    # => x1 = -w0/w1 * x0 - b/w1\n",
    "    x0 = np.linspace(xmin, xmax, 200)\n",
    "    decision_boundary = -w[0]/w[1] * x0 - b/w[1]\n",
    "\n",
    "    margin = 1/w[1]\n",
    "    gutter_up = decision_boundary + margin\n",
    "    gutter_down = decision_boundary - margin\n",
    "\n",
    "    svs = svm_clf.support_vectors_\n",
    "    plt.scatter(svs[:, 0], svs[:, 1], s=180, facecolors='#FFAAAA')\n",
    "    plt.plot(x0, decision_boundary, \"k-\", linewidth=2)\n",
    "    plt.plot(x0, gutter_up, \"k--\", linewidth=2)\n",
    "    plt.plot(x0, gutter_down, \"k--\", linewidth=2)\n",
    "\n",
    "fig, axes = plt.subplots(ncols=2, figsize=(10,2.7), sharey=True)"
   ]
  },
  {
   "cell_type": "code",
   "execution_count": 5,
   "metadata": {},
   "outputs": [
    {
     "data": {
      "text/plain": [
       "array([1.])"
      ]
     },
     "execution_count": 5,
     "metadata": {},
     "output_type": "execute_result"
    }
   ],
   "source": [
    "#same SVC with linear kernel and also we can use SGD classifier in this case which will not converge as fast as linearSVC\n",
    "#SGDClassifier is useful if we are trying to do it on huge datasets\n",
    "from sklearn.svm import SVC\n",
    "from sklearn.linear_model import SGDClassifier\n",
    "svm_clf_svc = Pipeline([('standard_scaler',StandardScaler()),\n",
    "                    ('linear_svc',SVC(kernel='linear', C = 1))])\n",
    "svm_clf_sgd = Pipeline([('standard_scaler',StandardScaler()),\n",
    "                    ('sgd_clf',SGDClassifier(loss='hinge'))])\n",
    "\n",
    "svm_clf_svc.fit(X,y)\n",
    "svm_clf_sgd.fit(X,y)\n",
    "\n",
    "svm_clf_svc.predict([[5.5,1.7]])\n",
    "svm_clf_sgd.predict([[5.0,1.7]])\n"
   ]
  },
  {
   "cell_type": "code",
   "execution_count": 6,
   "metadata": {},
   "outputs": [],
   "source": [
    "#Creating a non-linear SVM classification using polynomial features class \n",
    "#to create a non-linear data from make_moons dataset\n",
    "from sklearn.datasets import make_moons\n",
    "from sklearn.preprocessing import PolynomialFeatures\n",
    "X,y = make_moons(n_samples=100, noise= 0.15)"
   ]
  },
  {
   "cell_type": "code",
   "execution_count": 7,
   "metadata": {},
   "outputs": [],
   "source": [
    "import matplotlib.pyplot as plt \n",
    "%matplotlib inline "
   ]
  },
  {
   "cell_type": "code",
   "execution_count": 8,
   "metadata": {},
   "outputs": [
    {
     "data": {
      "image/png": "[encoded data removed]",
      "text/plain": [
       "<Figure size 432x288 with 1 Axes>"
      ]
     },
     "metadata": {
      "needs_background": "light"
     },
     "output_type": "display_data"
    }
   ],
   "source": [
    "plt.plot(X[:,0][y==0],X[:,1][y==0],'bs')\n",
    "plt.plot(X[:,0][y==1],X[:,1][y==1],'g^')\n",
    "plt.grid(True,axis='both')\n",
    "plt.axis([-1.5, 2.5, -1, 1.5])\n",
    "plt.show()"
   ]
  },
  {
   "cell_type": "code",
   "execution_count": 9,
   "metadata": {},
   "outputs": [
    {
     "data": {
      "text/plain": [
       "Pipeline(memory=None,\n",
       "         steps=[('poly_features',\n",
       "                 PolynomialFeatures(degree=3, include_bias=True,\n",
       "                                    interaction_only=False, order='C')),\n",
       "                ('scaler',\n",
       "                 StandardScaler(copy=True, with_mean=True, with_std=True)),\n",
       "                ('svm_clf',\n",
       "                 LinearSVC(C=10, class_weight=None, dual=True,\n",
       "                           fit_intercept=True, intercept_scaling=1,\n",
       "                           loss='hinge', max_iter=1000, multi_class='ovr',\n",
       "                           penalty='l2', random_state=42, tol=0.0001,\n",
       "                           verbose=0))],\n",
       "         verbose=False)"
      ]
     },
     "execution_count": 9,
     "metadata": {},
     "output_type": "execute_result"
    }
   ],
   "source": [
    "polynomial_svm_clf = Pipeline([\n",
    "        (\"poly_features\", PolynomialFeatures(degree=3)),\n",
    "        (\"scaler\", StandardScaler()),\n",
    "        (\"svm_clf\", LinearSVC(C=10, loss=\"hinge\", random_state=42))\n",
    "    ])\n",
    "\n",
    "polynomial_svm_clf.fit(X, y)"
   ]
  },
  {
   "cell_type": "code",
   "execution_count": 10,
   "metadata": {},
   "outputs": [
    {
     "data": {
      "image/png": "[encoded data removed]",
      "text/plain": [
       "<Figure size 432x288 with 1 Axes>"
      ]
     },
     "metadata": {
      "needs_background": "light"
     },
     "output_type": "display_data"
    }
   ],
   "source": [
    "#plot to show linear SVM classifier using polynomial features\n",
    "axes = [-1.5, 2.5, -1, 1.5]\n",
    "clf = polynomial_svm_clf\n",
    "x0s = np.linspace(axes[0], axes[1], 100)\n",
    "x1s = np.linspace(axes[2], axes[3], 100)\n",
    "x0, x1 = np.meshgrid(x0s, x1s)\n",
    "X_new = np.c_[x0.ravel(), x1.ravel()]\n",
    "y_pred = clf.predict(X_new).reshape(x0.shape)\n",
    "y_decision = clf.decision_function(X_new).reshape(x0.shape)\n",
    "plt.contourf(x0, x1, y_pred, cmap=plt.cm.brg, alpha=0.2)\n",
    "plt.contourf(x0, x1, y_decision, cmap=plt.cm.brg, alpha=0.1)\n",
    "plt.plot(X[:,0][y==0],X[:,1][y==0],'bs')\n",
    "plt.plot(X[:,0][y==1],X[:,1][y==1],'g^')\n",
    "plt.grid(True,axis='both')\n",
    "plt.axis([-1.5, 2.5, -1, 1.5])\n",
    "plt.show()"
   ]
  },
  {
   "cell_type": "code",
   "execution_count": 11,
   "metadata": {},
   "outputs": [
    {
     "data": {
      "text/plain": [
       "Pipeline(memory=None,\n",
       "         steps=[('standard_scaler',\n",
       "                 StandardScaler(copy=True, with_mean=True, with_std=True)),\n",
       "                ('polynomial_kernel',\n",
       "                 SVC(C=5, break_ties=False, cache_size=200, class_weight=None,\n",
       "                     coef0=1, decision_function_shape='ovr', degree=3,\n",
       "                     gamma='scale', kernel='poly', max_iter=-1,\n",
       "                     probability=False, random_state=None, shrinking=True,\n",
       "                     tol=0.001, verbose=False))],\n",
       "         verbose=False)"
      ]
     },
     "execution_count": 11,
     "metadata": {},
     "output_type": "execute_result"
    }
   ],
   "source": [
    "poly_kernel_svm_clf = Pipeline([('standard_scaler',StandardScaler()),\n",
    "                               ('polynomial_kernel',SVC(kernel = 'poly',degree = 3, coef0=1, C= 5))])\n",
    "poly_kernel_svm_clf.fit(X,y)"
   ]
  },
  {
   "cell_type": "code",
   "execution_count": 12,
   "metadata": {},
   "outputs": [
    {
     "data": {
      "image/png": "[encoded data removed]",
      "text/plain": [
       "<Figure size 432x288 with 1 Axes>"
      ]
     },
     "metadata": {
      "needs_background": "light"
     },
     "output_type": "display_data"
    }
   ],
   "source": [
    "#degree = 3, C= 5, r = 1\n",
    "axes = [-1.5, 2.5, -1, 1.5]\n",
    "clf = polynomial_svm_clf\n",
    "x0s = np.linspace(axes[0], axes[1], 100)\n",
    "x1s = np.linspace(axes[2], axes[3], 100)\n",
    "x0, x1 = np.meshgrid(x0s, x1s)\n",
    "X_new = np.c_[x0.ravel(), x1.ravel()]\n",
    "y_pred = clf.predict(X_new).reshape(x0.shape)\n",
    "y_decision = clf.decision_function(X_new).reshape(x0.shape)\n",
    "plt.contourf(x0, x1, y_pred, cmap=plt.cm.brg, alpha=0.2)\n",
    "plt.contourf(x0, x1, y_decision, cmap=plt.cm.brg, alpha=0.1)\n",
    "plt.plot(X[:,0][y==0],X[:,1][y==0],'bs')\n",
    "plt.plot(X[:,0][y==1],X[:,1][y==1],'g^')\n",
    "plt.grid(True,axis='both')\n",
    "plt.axis([-1.5, 2.5, -1, 1.5])\n",
    "plt.show()"
   ]
  },
  {
   "cell_type": "code",
   "execution_count": null,
   "metadata": {},
   "outputs": [],
   "source": [
    "poly_kernel_svm_clf = Pipeline([('standard_scaler',StandardScaler()),\n",
    "                               ('polynomial_kernel',SVC(kernel = 'poly',degree = 10, coef0=50, C= 5))])\n",
    "poly_kernel_svm_clf.fit(X,y)"
   ]
  },
  {
   "cell_type": "code",
   "execution_count": null,
   "metadata": {},
   "outputs": [],
   "source": [
    "#degree = 10, C= 5, r = 100\n",
    "axes = [-1.5, 2.5, -1, 1.5]\n",
    "clf = polynomial_svm_clf\n",
    "x0s = np.linspace(axes[0], axes[1], 100)\n",
    "x1s = np.linspace(axes[2], axes[3], 100)\n",
    "x0, x1 = np.meshgrid(x0s, x1s)\n",
    "X_new = np.c_[x0.ravel(), x1.ravel()]\n",
    "y_pred = clf.predict(X_new).reshape(x0.shape)\n",
    "y_decision = clf.decision_function(X_new).reshape(x0.shape)\n",
    "plt.contourf(x0, x1, y_pred, cmap=plt.cm.brg, alpha=0.2)\n",
    "plt.contourf(x0, x1, y_decision, cmap=plt.cm.brg, alpha=0.1)\n",
    "plt.plot(X[:,0][y==0],X[:,1][y==0],'bs')\n",
    "plt.plot(X[:,0][y==1],X[:,1][y==1],'g^')\n",
    "plt.grid(True,axis='both')\n",
    "plt.axis([-1.5, 2.5, -1, 1.5])\n",
    "plt.show()"
   ]
  },
  {
   "cell_type": "code",
   "execution_count": 19,
   "metadata": {},
   "outputs": [
    {
     "name": "stdout",
     "output_type": "stream",
     "text": [
      "Fitting 5 folds for each of 4 candidates, totalling 20 fits\n",
      "[CV] C=5, coef0=1, degree=3, kernel=poly .............................\n",
      "[CV] .............. C=5, coef0=1, degree=3, kernel=poly, total=   0.0s\n",
      "[CV] C=5, coef0=1, degree=3, kernel=poly .............................\n",
      "[CV] .............. C=5, coef0=1, degree=3, kernel=poly, total=   0.0s\n",
      "[CV] C=5, coef0=1, degree=3, kernel=poly .............................\n",
      "[CV] .............. C=5, coef0=1, degree=3, kernel=poly, total=   0.0s\n",
      "[CV] C=5, coef0=1, degree=3, kernel=poly .............................\n",
      "[CV] .............. C=5, coef0=1, degree=3, kernel=poly, total=   0.0s\n",
      "[CV] C=5, coef0=1, degree=3, kernel=poly .............................\n",
      "[CV] .............. C=5, coef0=1, degree=3, kernel=poly, total=   0.0s\n",
      "[CV] C=5, coef0=1, degree=10, kernel=poly ............................\n",
      "[CV] ............. C=5, coef0=1, degree=10, kernel=poly, total=   0.0s\n",
      "[CV] C=5, coef0=1, degree=10, kernel=poly ............................\n",
      "[CV] ............. C=5, coef0=1, degree=10, kernel=poly, total=   0.0s\n",
      "[CV] C=5, coef0=1, degree=10, kernel=poly ............................\n",
      "[CV] ............. C=5, coef0=1, degree=10, kernel=poly, total=   0.0s\n",
      "[CV] C=5, coef0=1, degree=10, kernel=poly ............................\n",
      "[CV] ............. C=5, coef0=1, degree=10, kernel=poly, total=   0.0s\n",
      "[CV] C=5, coef0=1, degree=10, kernel=poly ............................\n",
      "[CV] ............. C=5, coef0=1, degree=10, kernel=poly, total=   0.0s\n",
      "[CV] C=5, coef0=100, degree=3, kernel=poly ...........................\n"
     ]
    },
    {
     "name": "stderr",
     "output_type": "stream",
     "text": [
      "[Parallel(n_jobs=1)]: Using backend SequentialBackend with 1 concurrent workers.\n",
      "[Parallel(n_jobs=1)]: Done   1 out of   1 | elapsed:    0.0s remaining:    0.0s\n"
     ]
    },
    {
     "name": "stdout",
     "output_type": "stream",
     "text": [
      "[CV] ............ C=5, coef0=100, degree=3, kernel=poly, total=   0.2s\n",
      "[CV] C=5, coef0=100, degree=3, kernel=poly ...........................\n",
      "[CV] ............ C=5, coef0=100, degree=3, kernel=poly, total=   0.1s\n",
      "[CV] C=5, coef0=100, degree=3, kernel=poly ...........................\n",
      "[CV] ............ C=5, coef0=100, degree=3, kernel=poly, total=   0.1s\n",
      "[CV] C=5, coef0=100, degree=3, kernel=poly ...........................\n",
      "[CV] ............ C=5, coef0=100, degree=3, kernel=poly, total=   0.2s\n",
      "[CV] C=5, coef0=100, degree=3, kernel=poly ...........................\n",
      "[CV] ............ C=5, coef0=100, degree=3, kernel=poly, total=   0.0s\n",
      "[CV] C=5, coef0=100, degree=10, kernel=poly ..........................\n",
      "[CV] ........... C=5, coef0=100, degree=10, kernel=poly, total=   0.0s\n",
      "[CV] C=5, coef0=100, degree=10, kernel=poly ..........................\n",
      "[CV] ........... C=5, coef0=100, degree=10, kernel=poly, total=   0.0s\n",
      "[CV] C=5, coef0=100, degree=10, kernel=poly ..........................\n",
      "[CV] ........... C=5, coef0=100, degree=10, kernel=poly, total=   0.0s\n",
      "[CV] C=5, coef0=100, degree=10, kernel=poly ..........................\n",
      "[CV] ........... C=5, coef0=100, degree=10, kernel=poly, total=   0.0s\n",
      "[CV] C=5, coef0=100, degree=10, kernel=poly ..........................\n",
      "[CV] ........... C=5, coef0=100, degree=10, kernel=poly, total=   0.0s\n"
     ]
    },
    {
     "name": "stderr",
     "output_type": "stream",
     "text": [
      "[Parallel(n_jobs=1)]: Done  20 out of  20 | elapsed:    0.6s finished\n"
     ]
    },
    {
     "data": {
      "text/plain": [
       "GridSearchCV(cv=5, error_score=nan,\n",
       "             estimator=SVC(C=1.0, break_ties=False, cache_size=200,\n",
       "                           class_weight=None, coef0=0.0,\n",
       "                           decision_function_shape='ovr', degree=3,\n",
       "                           gamma='scale', kernel='rbf', max_iter=-1,\n",
       "                           probability=False, random_state=None, shrinking=True,\n",
       "                           tol=0.001, verbose=False),\n",
       "             iid='deprecated', n_jobs=None,\n",
       "             param_grid=[{'C': [5], 'coef0': [1, 100], 'degree': [3, 10],\n",
       "                          'kernel': ['poly']}],\n",
       "             pre_dispatch='2*n_jobs', refit=True, return_train_score=False,\n",
       "             scoring=make_scorer(fbeta_score, beta=2), verbose=2)"
      ]
     },
     "execution_count": 19,
     "metadata": {},
     "output_type": "execute_result"
    }
   ],
   "source": [
    "#implementing the above approach using GridSearchCV\n",
    "from sklearn.model_selection import GridSearchCV\n",
    "from sklearn.metrics import fbeta_score, make_scorer\n",
    "ftwo_scorer = make_scorer(fbeta_score, beta=2)\n",
    "make_scorer(fbeta_score, beta=2)\n",
    "from sklearn.model_selection import GridSearchCV\n",
    "param_grid = [{'kernel':['poly'],'degree':[3,10],'coef0':[1,100],'C':[5]}]\n",
    "svm_reg = SVC()\n",
    "grid_cv = GridSearchCV(svm_reg,param_grid,cv = 5, verbose = 2, scoring=ftwo_scorer)\n",
    "grid_cv.fit(X,y)\n"
   ]
  },
  {
   "cell_type": "code",
   "execution_count": 18,
   "metadata": {},
   "outputs": [
    {
     "data": {
      "text/plain": [
       "{'C': 5, 'coef0': 1, 'degree': 3, 'kernel': 'poly'}"
      ]
     },
     "execution_count": 18,
     "metadata": {},
     "output_type": "execute_result"
    }
   ],
   "source": [
    "grid_cv.best_params_"
   ]
  },
  {
   "cell_type": "markdown",
   "metadata": {},
   "source": [
    "#Implementation of Similarity Features"
   ]
  },
  {
   "cell_type": "code",
   "execution_count": null,
   "metadata": {},
   "outputs": [],
   "source": [
    "rbf_kernel_svc = Pipeline([('standard_scaler',StandardScaler()),\n",
    "                          ('rbf_kernel',SVC(kernel))])"
   ]
  }
 ],
 "metadata": {
  "kernelspec": {
   "display_name": "Python 3",
   "language": "python",
   "name": "python3"
  },
  "language_info": {
   "codemirror_mode": {
    "name": "ipython",
    "version": 3
   },
   "file_extension": ".py",
   "mimetype": "text/x-python",
   "name": "python",
   "nbconvert_exporter": "python",
   "pygments_lexer": "ipython3",
   "version": "3.7.6"
  }
 },
 "nbformat": 4,
 "nbformat_minor": 4
}
